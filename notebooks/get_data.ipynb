{
 "cells": [
  {
   "cell_type": "markdown",
   "id": "207c3d55",
   "metadata": {},
   "source": [
    "# Minimal example to get EDR SHARAD data in numpy format\n",
    "This is a minimal example to show how we can obtain the radargram and the topography of the acquisition from an EDR SHARAD file.\n",
    "We convert both in .npy arrays.\n",
    "\n",
    "Notice that we could extract more information from the .dat file, but we stick to the topography only for this minimal example.\n",
    "\n",
    "When operating with this file, your folder should look like this:\n",
    "\n",
    "    folder\n",
    "        e_0814901_001_ss19_700_a_s.dat\n",
    "        e_0814901_001_ss19_700_a.lbl.txt\n",
    "        science_ancillary.fmt.txt\n",
    "\n",
    "Where in this case I obtained the files from [Here](https://ode.rsl.wustl.edu/mars/indexproductpage.aspx?product_id=E_0814901_001_SS19_700_A&product_idGeo=26442095).\n",
    "\n",
    "For this minimal example, we will obtain the radargram and the topography of the acquisition from the .dat file.\n",
    "We obtain the number of records from the .lbl file. Here we simply read it and copy the value in the notebook but it is trivial to create a script to\n",
    "\n",
    "\n"
   ]
  },
  {
   "cell_type": "code",
   "execution_count": 1,
   "id": "a8b83fca",
   "metadata": {},
   "outputs": [],
   "source": [
    "import numpy as np\n",
    "import matplotlib.pyplot as plt"
   ]
  },
  {
   "cell_type": "code",
   "execution_count": 2,
   "id": "3e5d6d9e",
   "metadata": {},
   "outputs": [],
   "source": [
    "# Put here your file name obtained from MRO SHARAD PDS3 Experiment Data Record (EDR) (Raw Data)\n",
    "fn = '/Users/jordy/Data/SHARAD/northern_flow/raw/e_4789001_001_ss19_700_a_s.dat'\n",
    "fn_lbl = '/Users/jordy/Data/SHARAD/northern_flow/raw/e_4789001_001_ss19_700_a.lbl.txt'"
   ]
  },
  {
   "cell_type": "code",
   "execution_count": 3,
   "id": "70d19efe",
   "metadata": {},
   "outputs": [
    {
     "name": "stdout",
     "output_type": "stream",
     "text": [
      "RECORD_BYTES = 3786\n",
      "FILE_RECORDS = 14746\n"
     ]
    }
   ],
   "source": [
    "# Extract the number of records from the lbl file\n",
    "with open(fn_lbl, \"r\", encoding=\"utf-8\") as f:\n",
    "    rb_found = False # Only the first RECORD_BYTES line is related to our .dat, the other is for ancillary data\n",
    "    for line in f:\n",
    "        line = line.strip()  # remove leading/trailing whitespace\n",
    "        if line.startswith(\"RECORD_BYTES\") and rb_found is False:\n",
    "            parts = line.split('=')\n",
    "            if len(parts) == 2:\n",
    "                RECORDBYTES = int(parts[1].strip())\n",
    "                rb_found = True\n",
    "        if line.startswith(\"FILE_RECORDS\"):\n",
    "            parts = line.split('=')\n",
    "            if len(parts) == 2:\n",
    "                NRECORDS = int(parts[1].strip())\n",
    "\n",
    "if RECORDBYTES is not None:\n",
    "    print(\"RECORD_BYTES =\", RECORDBYTES)\n",
    "else:\n",
    "    print(\"RECORD_BYTES not found.\")\n",
    "\n",
    "if NRECORDS is not None:\n",
    "    print(\"FILE_RECORDS =\", NRECORDS)\n",
    "else:\n",
    "    print(\"FILE_RECORDS not found.\")"
   ]
  },
  {
   "cell_type": "code",
   "execution_count": 4,
   "id": "6a9ab7a5",
   "metadata": {},
   "outputs": [
    {
     "name": "stdout",
     "output_type": "stream",
     "text": [
      "/Users/jordy/Data/SHARAD/northern_flow/raw/e_4789001_001_ss19_700_a_s.dat (3600, 14746)\n"
     ]
    }
   ],
   "source": [
    "ITEMS = 3600 # As per SHARAD docs, each record contains 3600 8bits MSB integers representing a rangeline.\n",
    "OFFSET = 186 # As per SHARAD docs, the first 186 bytes of each record are ancillary headers.\n",
    "\n",
    "A = np.zeros((RECORDBYTES,NRECORDS))\n",
    "for i in range(NRECORDS):\n",
    "    with open(fn, 'rb') as fid:\n",
    "        A[:,i] = np.fromfile(fid, dtype='>i1', count=RECORDBYTES, offset= RECORDBYTES*i)\n",
    "A = A[OFFSET:,:]\n",
    "print(fn, A.shape)\n",
    "\n",
    "raw_data = A.astype(np.int8)\n",
    "np.save('raw_data.npy', raw_data)\n"
   ]
  },
  {
   "cell_type": "code",
   "execution_count": 15,
   "id": "a7e7edcf",
   "metadata": {},
   "outputs": [
    {
     "name": "stderr",
     "output_type": "stream",
     "text": [
      "/var/folders/mb/0w20lnl16y5fksslt2bgf0tr0000gn/T/ipykernel_54117/1276005995.py:9: DeprecationWarning: Conversion of an array with ndim > 0 to a scalar is deprecated, and will error in future. Ensure you extract a single element from your array before performing this operation. (Deprecated NumPy 1.25.)\n",
      "  topo[i] = np.fromfile(fid, dtype='>f4', count=1, offset= OFFSET + RECORDBYTES*i)\n"
     ]
    },
    {
     "data": {
      "image/png": "[encoded data removed]",
      "text/plain": [
       "<Figure size 1000x200 with 1 Axes>"
      ]
     },
     "metadata": {},
     "output_type": "display_data"
    }
   ],
   "source": [
    "# Extract topography\n",
    "\n",
    "# As per SHARAD docs, topography is saved as a 4bytes flotaing point value.\n",
    "OFFSET = 170 # As per SHARAD docs, the topography is at position 170 in the record.\n",
    "\n",
    "topo = np.zeros(NRECORDS)\n",
    "for i in range(NRECORDS):\n",
    "    with open(fn, 'rb') as fid:\n",
    "        topo[i] = np.fromfile(fid, dtype='>f4', count=1, offset= OFFSET + RECORDBYTES*i)\n",
    "\n",
    "plt.figure(figsize=(10, 2))\n",
    "plt.plot(topo)\n",
    "\n",
    "# Save topography [km]\n",
    "np.save('topo.npy', topo.flatten())\n"
   ]
  }
 ],
 "metadata": {
  "kernelspec": {
   "display_name": "base",
   "language": "python",
   "name": "python3"
  },
  "language_info": {
   "codemirror_mode": {
    "name": "ipython",
    "version": 3
   },
   "file_extension": ".py",
   "mimetype": "text/x-python",
   "name": "python",
   "nbconvert_exporter": "python",
   "pygments_lexer": "ipython3",
   "version": "3.11.11"
  }
 },
 "nbformat": 4,
 "nbformat_minor": 5
}
