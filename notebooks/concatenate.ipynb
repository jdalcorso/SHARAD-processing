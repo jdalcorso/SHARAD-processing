{
 "cells": [
  {
   "cell_type": "markdown",
   "metadata": {},
   "source": [
    "# Concatenation\n",
    "In this notebook, we concatenate multiple SHARAD products obtained from Mars ODE (Italian Version). Readers can use these cells as a reference for importing the SHARAD data from Mars ODE."
   ]
  },
  {
   "cell_type": "code",
   "execution_count": 3,
   "metadata": {},
   "outputs": [],
   "source": [
    "import numpy as np"
   ]
  },
  {
   "cell_type": "code",
   "execution_count": 5,
   "metadata": {},
   "outputs": [
    {
     "name": "stdout",
     "output_type": "stream",
     "text": [
      "e_0176902_001_ss19_700_a_s.dat\n",
      "e_0176902_002_ss19_700_a_s.dat\n",
      "e_0176902_003_ss19_700_a_s.dat\n",
      "e_0176902_004_ss19_700_a_s.dat\n",
      "e_0176902_005_ss19_700_a_s.dat\n",
      "e_0176902_006_ss19_700_a_s.dat\n",
      "e_0176902_007_ss19_700_a_s.dat\n",
      "e_0176902_008_ss19_700_a_s.dat\n"
     ]
    }
   ],
   "source": [
    "# List dataset filenames\n",
    "fns = ['e_0176902_00'+str(i)+'_ss19_700_a_s.dat' for i in range(1,9)]\n",
    "for i in range(len(fns)):\n",
    "    print(fns[i])"
   ]
  },
  {
   "cell_type": "code",
   "execution_count": 7,
   "metadata": {},
   "outputs": [
    {
     "name": "stdout",
     "output_type": "stream",
     "text": [
      "e_0176902_001_ss19_700_a_s.dat (3600, 10504)\n",
      "e_0176902_002_ss19_700_a_s.dat (3600, 10504)\n",
      "e_0176902_003_ss19_700_a_s.dat (3600, 10504)\n",
      "e_0176902_004_ss19_700_a_s.dat (3600, 10504)\n",
      "e_0176902_005_ss19_700_a_s.dat (3600, 10504)\n",
      "e_0176902_006_ss19_700_a_s.dat (3600, 10504)\n",
      "e_0176902_007_ss19_700_a_s.dat (3600, 10504)\n",
      "e_0176902_008_ss19_700_a_s.dat (3600, 5252)\n"
     ]
    }
   ],
   "source": [
    "ITEMS = 3600 # As per SHARAD docs, each record contains 3600 8bits MSB integers representing a rangeline.\n",
    "OFFSET = 186 # As per SHARAD docs, the first 186 bytes of each record are ancillary headers.\n",
    "RECORDBYTES = OFFSET+ITEMS\n",
    "NRECORDS = [10504,10504,10504,10504,10504,10504,10504,5252] # See .lbl files for info on record length and dtypes\n",
    "\n",
    "As = []\n",
    "for i in range(8):\n",
    "    fn = fns[i]\n",
    "    A = np.zeros((RECORDBYTES,NRECORDS[i]))\n",
    "    for i in range(NRECORDS[i]):\n",
    "        with open(fn, 'rb') as fid:\n",
    "            A[:,i] = np.fromfile(fid, dtype='>i1', count=RECORDBYTES, offset= RECORDBYTES*i)\n",
    "    A = A[OFFSET:,:]\n",
    "    print(fn,A.shape)\n",
    "    As.append(A)"
   ]
  },
  {
   "cell_type": "code",
   "execution_count": 16,
   "metadata": {},
   "outputs": [
    {
     "name": "stdout",
     "output_type": "stream",
     "text": [
      "(3600, 78780) int8\n"
     ]
    }
   ],
   "source": [
    "raw_data = np.concatenate(As, axis = 1).astype(np.int8)\n",
    "#np.save('raw_data.npy', raw_data)\n",
    "print(raw_data.shape, raw_data.dtype)"
   ]
  }
 ],
 "metadata": {
  "kernelspec": {
   "display_name": "base",
   "language": "python",
   "name": "python3"
  },
  "language_info": {
   "codemirror_mode": {
    "name": "ipython",
    "version": 3
   },
   "file_extension": ".py",
   "mimetype": "text/x-python",
   "name": "python",
   "nbconvert_exporter": "python",
   "pygments_lexer": "ipython3",
   "version": "3.9.undefined"
  }
 },
 "nbformat": 4,
 "nbformat_minor": 2
}
